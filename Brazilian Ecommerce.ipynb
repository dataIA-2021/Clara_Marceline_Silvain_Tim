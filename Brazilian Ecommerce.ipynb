{
 "cells": [
  {
   "cell_type": "code",
   "execution_count": 1,
   "id": "93c6db75",
   "metadata": {},
   "outputs": [
    {
     "ename": "SyntaxError",
     "evalue": "invalid syntax (Temp/ipykernel_1760/3410434639.py, line 9)",
     "output_type": "error",
     "traceback": [
      "\u001b[1;36m  File \u001b[1;32m\"C:\\Users\\TIM_SE~1\\AppData\\Local\\Temp/ipykernel_1760/3410434639.py\"\u001b[1;36m, line \u001b[1;32m9\u001b[0m\n\u001b[1;33m    <Connection MYSQL>\u001b[0m\n\u001b[1;37m    ^\u001b[0m\n\u001b[1;31mSyntaxError\u001b[0m\u001b[1;31m:\u001b[0m invalid syntax\n"
     ]
    }
   ],
   "source": [
    "import pandas as pd\n",
    "import pymysql\n",
    "from sqlalchemy import create_engine\n",
    "import yaml\n",
    "with open('votre répertoire/config.yml', 'r') as f:\n",
    "     conf = yaml.safe_load(f)\n",
    "my = conf['MYSQL']\n",
    "\n",
    "<Connection MYSQL>\n",
    "str = f\"mysql+pymysql://{my['user']}:{my['password']}@{my['host']}:{my['port']}/{my['database']}\"\n",
    "engine = create_engine(str, echo=False)\n",
    "\n",
    "connection = engine.connect()"
   ]
  },
  {
   "cell_type": "code",
   "execution_count": null,
   "id": "cdb63d27",
   "metadata": {},
   "outputs": [],
   "source": [
    "connection.execute('DROP TABLE IF EXISTS customers;')\n",
    "connection.execute('CREATE TABLE customers(customer_id char(32), customer_unique_id char(32), customer_zip_code_prefix mediumint, customer_city varchar(50), customer_state char(2), PRIMARY KEY (customer_id)) ENGINE=InnoDB;')\n",
    "\n",
    "customers=pd.read_csv('https://raw.githubusercontent.com/VictorGuedes/Brazilian-E-Commerce-Public-Dataset-examples/master/dataset/olist_customers_dataset.csv')\n",
    "customers.to_sql('customer', con=engine, if_exists='append', index=False)"
   ]
  },
  {
   "cell_type": "code",
   "execution_count": null,
   "id": "558cb75a",
   "metadata": {},
   "outputs": [],
   "source": [
    "drop_products='DROP TABLE IF EXISTS products;'\n",
    "connection.execute(drop_products)\n",
    "connection.execute('CREATE TABLE IF NOT EXISTS products(product_id varchar(60) PRIMARY KEY NOT NULL, product_category_name text(70), product_name_lenght float(10), product_description_lenght float(20), product_photos_qty float(5),product_weight_g float(20),product_length_cm float(10),product_height_cm float(10),product_width_cm float(10)) DEFAULT CHARSET=utf8;')\n",
    "\n",
    "<data set>\n",
    "products=pd.read_csv('https://raw.githubusercontent.com/VictorGuedes/Brazilian-E-Commerce-Public-Dataset-examples/master/dataset/olist_products_dataset.csv')\n",
    "products.to_sql('products', con=engine, if_exists='append', index=False)"
   ]
  },
  {
   "cell_type": "code",
   "execution_count": null,
   "id": "84069b41",
   "metadata": {},
   "outputs": [],
   "source": [
    "connection.execute('CREATE TABLE IF NOT EXISTS orders(order_id char(32) NOT NULL, customer_id char(32), order_status varchar(12), order_purchase_timestamp datetime, order_approved_at datetime, order_delivered_carrier_date datetime, order_delivered_customer_date datetime, order_estimated_delivery_date datetime, PRIMARY KEY (order_id)) ENGINE=InnoDB DEFAULT CHARSET=utf8mb4 COLLATE=utf8mb4_0900_ai_ci;')\n",
    "products=pd.read_csv('https://raw.githubusercontent.com/VictorGuedes/Brazilian-E-Commerce-Public-Dataset-examples/master/dataset/olist_orders_dataset.csv')\n",
    "products.to_sql('orders', con=engine, if_exists='append', index=False)"
   ]
  },
  {
   "cell_type": "code",
   "execution_count": null,
   "id": "27f439d3",
   "metadata": {},
   "outputs": [],
   "source": [
    "DROP TABLE IF EXISTS sellers; CREATE TABLE IF NOT EXISTS sellers(seller_id varchar(60) PRIMARY KEY NOT NULL, seller_zip_code_prefix int(5), seller_city text(45), seller_state text(2));) DEFAULT CHARSET=utf8;\n",
    "\n",
    "LOAD DATA\n",
    "INFILE 'https://raw.githubusercontent.com/dataIA-2021/Clara_Marceline_Silvain_Tim/main/olist_sellers_dataset.csv'\n",
    "INTO TABLE products;"
   ]
  }
 ],
 "metadata": {
  "kernelspec": {
   "display_name": "Python 3 (ipykernel)",
   "language": "python",
   "name": "python3"
  },
  "language_info": {
   "codemirror_mode": {
    "name": "ipython",
    "version": 3
   },
   "file_extension": ".py",
   "mimetype": "text/x-python",
   "name": "python",
   "nbconvert_exporter": "python",
   "pygments_lexer": "ipython3",
   "version": "3.9.7"
  }
 },
 "nbformat": 4,
 "nbformat_minor": 5
}
